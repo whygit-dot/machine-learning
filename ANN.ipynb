{
  "nbformat": 4,
  "nbformat_minor": 0,
  "metadata": {
    "colab": {
      "provenance": [],
      "authorship_tag": "ABX9TyP0xQZ6V/K/N2/CpHcBfVOq",
      "include_colab_link": true
    },
    "kernelspec": {
      "name": "python3",
      "display_name": "Python 3"
    },
    "language_info": {
      "name": "python"
    }
  },
  "cells": [
    {
      "cell_type": "markdown",
      "metadata": {
        "id": "view-in-github",
        "colab_type": "text"
      },
      "source": [
        "<a href=\"https://colab.research.google.com/github/srigit-dot/machine-learning/blob/main/ANN.ipynb\" target=\"_parent\"><img src=\"https://colab.research.google.com/assets/colab-badge.svg\" alt=\"Open In Colab\"/></a>"
      ]
    },
    {
      "cell_type": "code",
      "execution_count": 20,
      "metadata": {
        "colab": {
          "base_uri": "https://localhost:8080/",
          "height": 680
        },
        "id": "aFbaNXzyQg1T",
        "outputId": "48d36d6e-919d-4fd8-a5e9-dfb766cb51d2"
      },
      "outputs": [
        {
          "output_type": "stream",
          "name": "stderr",
          "text": [
            "/usr/local/lib/python3.11/dist-packages/keras/src/layers/core/dense.py:87: UserWarning: Do not pass an `input_shape`/`input_dim` argument to a layer. When using Sequential models, prefer using an `Input(shape)` object as the first layer in the model instead.\n",
            "  super().__init__(activity_regularizer=activity_regularizer, **kwargs)\n"
          ]
        },
        {
          "output_type": "stream",
          "name": "stdout",
          "text": [
            "It looks like you are running Gradio on a hosted a Jupyter notebook. For the Gradio app to work, sharing must be enabled. Automatically setting `share=True` (you can turn this off by setting `share=False` in `launch()` explicitly).\n",
            "\n",
            "Colab notebook detected. To show errors in colab notebook, set debug=True in launch()\n",
            "* Running on public URL: https://d6180a95fc9d86b671.gradio.live\n",
            "\n",
            "This share link expires in 1 week. For free permanent hosting and GPU upgrades, run `gradio deploy` from the terminal in the working directory to deploy to Hugging Face Spaces (https://huggingface.co/spaces)\n"
          ]
        },
        {
          "output_type": "display_data",
          "data": {
            "text/plain": [
              "<IPython.core.display.HTML object>"
            ],
            "text/html": [
              "<div><iframe src=\"https://d6180a95fc9d86b671.gradio.live\" width=\"100%\" height=\"500\" allow=\"autoplay; camera; microphone; clipboard-read; clipboard-write;\" frameborder=\"0\" allowfullscreen></iframe></div>"
            ]
          },
          "metadata": {}
        },
        {
          "output_type": "execute_result",
          "data": {
            "text/plain": []
          },
          "metadata": {},
          "execution_count": 20
        }
      ],
      "source": [
        "import numpy as np\n",
        "import tensorflow as tf\n",
        "from tensorflow.keras.models import Sequential\n",
        "from tensorflow.keras.layers import Dense\n",
        "import gradio as gr\n",
        "\n",
        "# Generate synthetic data\n",
        "X = np.array([[i] for i in range(50)])  # Features\n",
        "y = np.array([[i * 2] for i in range(50)])  # Labels (simple function y = 2x)\n",
        "\n",
        "# Normalize data\n",
        "X = X / 50.0\n",
        "y = y / 100.0\n",
        "\n",
        "# Create ANN model\n",
        "model = Sequential()\n",
        "model.add(Dense(16, activation='relu', input_shape=(1,)))  # Hidden layer\n",
        "model.add(Dense(1))  # Output layer\n",
        "model.compile(optimizer='adam', loss='mse')\n",
        "\n",
        "# Train model\n",
        "model.fit(X, y, epochs=500, verbose=0)\n",
        "\n",
        "# Define prediction function for Gradio\n",
        "def predict(num):\n",
        "    num = np.array([num]) / 50.0  # Normalize input\n",
        "    prediction = model.predict(num)\n",
        "    return f\"Predicted output: {prediction[0][0] * 100}\"\n",
        "\n",
        "# Create Gradio interface\n",
        "demo = gr.Interface(fn=predict, inputs=\"number\", outputs=\"text\")\n",
        "demo.launch()"
      ]
    }
  ]
}