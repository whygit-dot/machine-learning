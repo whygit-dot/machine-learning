{
  "nbformat": 4,
  "nbformat_minor": 0,
  "metadata": {
    "colab": {
      "provenance": [],
      "authorship_tag": "ABX9TyOKZSAOnuf8Ns8//cKZr3pk",
      "include_colab_link": true
    },
    "kernelspec": {
      "name": "python3",
      "display_name": "Python 3"
    },
    "language_info": {
      "name": "python"
    }
  },
  "cells": [
    {
      "cell_type": "markdown",
      "metadata": {
        "id": "view-in-github",
        "colab_type": "text"
      },
      "source": [
        "<a href=\"https://colab.research.google.com/github/srigit-dot/machine-learning/blob/main/AIPoweredChatBot.ipynb\" target=\"_parent\"><img src=\"https://colab.research.google.com/assets/colab-badge.svg\" alt=\"Open In Colab\"/></a>"
      ]
    },
    {
      "cell_type": "code",
      "execution_count": 10,
      "metadata": {
        "colab": {
          "base_uri": "https://localhost:8080/"
        },
        "id": "taI-SqWAy7ye",
        "outputId": "2a1d5438-781c-4fcb-80f1-863f6f79cdce"
      },
      "outputs": [
        {
          "output_type": "stream",
          "name": "stdout",
          "text": [
            "💬 Chat with DeepSeek or Gemini! Type 'exit' to quit.\n",
            "👉 Choose your model (deepseek / gemini): gemini\n",
            "\n",
            "You: hi\n",
            "Gemini: Hello! How can I help you today?\n",
            "\n",
            "You: how are you\n",
            "Gemini: I am doing well, thank you for asking. How are you doing today?\n",
            "\n",
            "You: exit\n",
            "👋 Goodbye!\n"
          ]
        }
      ],
      "source": [
        "from langchain.llms.base import LLM\n",
        "from typing import Optional, List\n",
        "import requests\n",
        "\n",
        "# Define custom LLM for OpenRouter\n",
        "class OpenRouterLLM(LLM):\n",
        "    model: str\n",
        "    api_key: str\n",
        "\n",
        "    def _call(self, prompt: str, stop: Optional[List[str]] = None) -> str:\n",
        "        headers = {\n",
        "            \"Authorization\": f\"Bearer {self.api_key}\",\n",
        "            \"Content-Type\": \"application/json\"\n",
        "        }\n",
        "        data = {\n",
        "            \"model\": self.model,\n",
        "            \"messages\": [{\"role\": \"user\", \"content\": prompt}]\n",
        "        }\n",
        "\n",
        "        response = requests.post(\"https://openrouter.ai/api/v1/chat/completions\", headers=headers, json=data)\n",
        "\n",
        "        try:\n",
        "            result = response.json()\n",
        "            if \"choices\" not in result:\n",
        "                raise ValueError(f\"API Error: {result.get('error', result)}\")\n",
        "            return result[\"choices\"][0][\"message\"][\"content\"]\n",
        "        except Exception as e:\n",
        "            print(\"🚨 Error from OpenRouter API:\")\n",
        "            print(response.text)\n",
        "            raise e\n",
        "\n",
        "    @property\n",
        "    def _llm_type(self) -> str:\n",
        "        return \"openrouter\"\n",
        "\n",
        "# API Key\n",
        "API_KEY = \"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\"\n",
        "\n",
        "# Define models\n",
        "deepseek_llm = OpenRouterLLM(api_key=API_KEY, model=\"deepseek/deepseek-chat\")\n",
        "gemini_llm = OpenRouterLLM(api_key=API_KEY, model=\"google/gemini-pro\")\n",
        "\n",
        "# LangChain setup\n",
        "from langchain.prompts import PromptTemplate\n",
        "from langchain.chains import LLMChain\n",
        "\n",
        "prompt = PromptTemplate(\n",
        "    input_variables=[\"question\"],\n",
        "    template=\"Answer the following question:\\n{question}\"\n",
        ")\n",
        "\n",
        "# Create chains\n",
        "deepseek_chain = LLMChain(llm=deepseek_llm, prompt=prompt)\n",
        "gemini_chain = LLMChain(llm=gemini_llm, prompt=prompt)\n",
        "\n",
        "# Chat loop\n",
        "print(\"💬 Chat with DeepSeek or Gemini! Type 'exit' to quit.\")\n",
        "model_choice = input(\"👉 Choose your model (deepseek / gemini): \").strip().lower()\n",
        "\n",
        "if model_choice not in [\"deepseek\", \"gemini\"]:\n",
        "    print(\"❌ Invalid model choice.\")\n",
        "else:\n",
        "    chain = deepseek_chain if model_choice == \"deepseek\" else gemini_chain\n",
        "    while True:\n",
        "        question = input(\"\\nYou: \")\n",
        "        if question.lower() in [\"exit\", \"quit\"]:\n",
        "            print(\"👋 Goodbye!\")\n",
        "            break\n",
        "        try:\n",
        "            response = chain.run(question)\n",
        "            print(f\"{model_choice.capitalize()}: {response}\")\n",
        "        except Exception as e:\n",
        "            print(f\"⚠️ Error: {e}\")\n"
      ]
    }
  ]
}