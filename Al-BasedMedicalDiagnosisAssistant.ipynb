{
  "nbformat": 4,
  "nbformat_minor": 0,
  "metadata": {
    "colab": {
      "provenance": [],
      "authorship_tag": "ABX9TyN3H4jBzUcTll0sGXnHtHf8",
      "include_colab_link": true
    },
    "kernelspec": {
      "name": "python3",
      "display_name": "Python 3"
    },
    "language_info": {
      "name": "python"
    }
  },
  "cells": [
    {
      "cell_type": "markdown",
      "metadata": {
        "id": "view-in-github",
        "colab_type": "text"
      },
      "source": [
        "<a href=\"https://colab.research.google.com/github/srigit-dot/machine-learning/blob/main/Al-BasedMedicalDiagnosisAssistant.ipynb\" target=\"_parent\"><img src=\"https://colab.research.google.com/assets/colab-badge.svg\" alt=\"Open In Colab\"/></a>"
      ]
    },
    {
      "cell_type": "code",
      "execution_count": 15,
      "metadata": {
        "colab": {
          "base_uri": "https://localhost:8080/",
          "height": 646
        },
        "id": "taI-SqWAy7ye",
        "outputId": "43e98e65-7544-4242-aaae-612c141ca9fc"
      },
      "outputs": [
        {
          "output_type": "stream",
          "name": "stdout",
          "text": [
            "Running Gradio in a Colab notebook requires sharing enabled. Automatically setting `share=True` (you can turn this off by setting `share=False` in `launch()` explicitly).\n",
            "\n",
            "Colab notebook detected. To show errors in colab notebook, set debug=True in launch()\n",
            "* Running on public URL: https://81c7aafb538a296b0b.gradio.live\n",
            "\n",
            "This share link expires in 72 hours. For free permanent hosting and GPU upgrades, run `gradio deploy` from the terminal in the working directory to deploy to Hugging Face Spaces (https://huggingface.co/spaces)\n"
          ]
        },
        {
          "output_type": "display_data",
          "data": {
            "text/plain": [
              "<IPython.core.display.HTML object>"
            ],
            "text/html": [
              "<div><iframe src=\"https://81c7aafb538a296b0b.gradio.live\" width=\"100%\" height=\"500\" allow=\"autoplay; camera; microphone; clipboard-read; clipboard-write;\" frameborder=\"0\" allowfullscreen></iframe></div>"
            ]
          },
          "metadata": {}
        },
        {
          "output_type": "execute_result",
          "data": {
            "text/plain": []
          },
          "metadata": {},
          "execution_count": 15
        }
      ],
      "source": [
        "import gradio as gr\n",
        "import numpy as np\n",
        "import pandas as pd\n",
        "from sklearn.tree import DecisionTreeClassifier\n",
        "\n",
        "# Sample healthcare data: Symptoms (binary: 1 = Present, 0 = Not Present) and Diagnosis\n",
        "data = {\n",
        "    \"fever\": [1, 0, 1, 1, 0, 1],\n",
        "    \"cough\": [1, 1, 1, 0, 1, 0],\n",
        "    \"headache\": [1, 1, 0, 0, 0, 1],\n",
        "    \"fatigue\": [1, 1, 0, 1, 1, 1],\n",
        "    \"sore_throat\": [0, 1, 0, 1, 0, 0],\n",
        "    \"shortness_of_breath\": [0, 0, 1, 0, 0, 1],\n",
        "    \"diagnosis\": [\"Flu\", \"Cold\", \"Covid-19\", \"Flu\", \"Cold\", \"Covid-19\"]\n",
        "}\n",
        "\n",
        "# Convert the data into a pandas DataFrame\n",
        "df = pd.DataFrame(data)\n",
        "\n",
        "# Define features (symptoms) and target (diagnosis)\n",
        "X = df.drop(columns=[\"diagnosis\"])\n",
        "y = df[\"diagnosis\"]\n",
        "\n",
        "# Train a simple Decision Tree Classifier\n",
        "model = DecisionTreeClassifier()\n",
        "model.fit(X, y)\n",
        "\n",
        "# Prediction function\n",
        "def predict_diagnosis(fever, cough, headache, fatigue, sore_throat, shortness_of_breath):\n",
        "    # Create a feature array based on user input\n",
        "    symptoms = np.array([[fever, cough, headache, fatigue, sore_throat, shortness_of_breath]])\n",
        "    prediction = model.predict(symptoms)[0]\n",
        "\n",
        "    return prediction\n",
        "\n",
        "# Create Gradio interface\n",
        "interface = gr.Interface(\n",
        "    fn=predict_diagnosis,\n",
        "    inputs=[\n",
        "        gr.Checkbox(label=\"Fever\"),\n",
        "        gr.Checkbox(label=\"Cough\"),\n",
        "        gr.Checkbox(label=\"Headache\"),\n",
        "        gr.Checkbox(label=\"Fatigue\"),\n",
        "        gr.Checkbox(label=\"Sore Throat\"),\n",
        "        gr.Checkbox(label=\"Shortness of Breath\"),\n",
        "    ],\n",
        "    outputs=\"text\",\n",
        "    title=\"AI Symptom Checker\",\n",
        "    description=\"Enter symptoms to get a possible diagnosis based on simple healthcare data.\"\n",
        ")\n",
        "\n",
        "# Launch the interface\n",
        "interface.launch()\n"
      ]
    }
  ]
}