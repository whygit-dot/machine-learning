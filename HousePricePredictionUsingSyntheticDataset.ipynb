{
  "nbformat": 4,
  "nbformat_minor": 0,
  "metadata": {
    "colab": {
      "provenance": [],
      "authorship_tag": "ABX9TyOxOGF5R9vyQXA4rnCwqkBp",
      "include_colab_link": true
    },
    "kernelspec": {
      "name": "python3",
      "display_name": "Python 3"
    },
    "language_info": {
      "name": "python"
    }
  },
  "cells": [
    {
      "cell_type": "markdown",
      "metadata": {
        "id": "view-in-github",
        "colab_type": "text"
      },
      "source": [
        "<a href=\"https://colab.research.google.com/github/srigit-dot/machine-learning/blob/main/HousePricePredictionUsingSyntheticDataset.ipynb\" target=\"_parent\"><img src=\"https://colab.research.google.com/assets/colab-badge.svg\" alt=\"Open In Colab\"/></a>"
      ]
    },
    {
      "cell_type": "code",
      "execution_count": 22,
      "metadata": {
        "colab": {
          "base_uri": "https://localhost:8080/",
          "height": 646
        },
        "id": "aFbaNXzyQg1T",
        "outputId": "499f777b-35e1-4072-dacb-789b3b3bfaad"
      },
      "outputs": [
        {
          "output_type": "stream",
          "name": "stdout",
          "text": [
            "It looks like you are running Gradio on a hosted a Jupyter notebook. For the Gradio app to work, sharing must be enabled. Automatically setting `share=True` (you can turn this off by setting `share=False` in `launch()` explicitly).\n",
            "\n",
            "Colab notebook detected. To show errors in colab notebook, set debug=True in launch()\n",
            "* Running on public URL: https://d83cd23a2ac0b894bc.gradio.live\n",
            "\n",
            "This share link expires in 1 week. For free permanent hosting and GPU upgrades, run `gradio deploy` from the terminal in the working directory to deploy to Hugging Face Spaces (https://huggingface.co/spaces)\n"
          ]
        },
        {
          "output_type": "display_data",
          "data": {
            "text/plain": [
              "<IPython.core.display.HTML object>"
            ],
            "text/html": [
              "<div><iframe src=\"https://d83cd23a2ac0b894bc.gradio.live\" width=\"100%\" height=\"500\" allow=\"autoplay; camera; microphone; clipboard-read; clipboard-write;\" frameborder=\"0\" allowfullscreen></iframe></div>"
            ]
          },
          "metadata": {}
        },
        {
          "output_type": "execute_result",
          "data": {
            "text/plain": []
          },
          "metadata": {},
          "execution_count": 22
        }
      ],
      "source": [
        "import numpy as np\n",
        "import pandas as pd\n",
        "from sklearn.linear_model import LinearRegression\n",
        "import gradio as gr\n",
        "\n",
        "# Generate synthetic house price data\n",
        "np.random.seed(42)\n",
        "size = np.random.randint(800, 4000, 100)  # Square footage\n",
        "bedrooms = np.random.randint(1, 6, 100)  # Number of bedrooms\n",
        "age = np.random.randint(1, 50, 100)  # Age of house in years\n",
        "\n",
        "# Generate house prices with some randomness\n",
        "price = (size * 300) + (bedrooms * 10000) - (age * 500) + np.random.randint(20000, 70000, 100)\n",
        "\n",
        "# Prepare dataset\n",
        "df = pd.DataFrame({\"Size\": size, \"Bedrooms\": bedrooms, \"Age\": age, \"Price\": price})\n",
        "X = df[[\"Size\", \"Bedrooms\", \"Age\"]]\n",
        "y = df[\"Price\"]\n",
        "\n",
        "# Train Linear Regression model\n",
        "model = LinearRegression()\n",
        "model.fit(X, y)\n",
        "\n",
        "# Define prediction function\n",
        "def predict_price(size, bedrooms, age):\n",
        "    prediction = model.predict([[size, bedrooms, age]])\n",
        "    return f\"Estimated House Price: ₹{prediction[0]:,.2f}\"\n",
        "\n",
        "# Create Gradio interface\n",
        "demo = gr.Interface(fn=predict_price, inputs=[\"number\", \"number\", \"number\"], outputs=\"text\")\n",
        "demo.launch()"
      ]
    }
  ]
}