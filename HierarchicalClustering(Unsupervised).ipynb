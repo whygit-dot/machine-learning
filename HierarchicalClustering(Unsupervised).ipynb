{
  "nbformat": 4,
  "nbformat_minor": 0,
  "metadata": {
    "colab": {
      "provenance": [],
      "authorship_tag": "ABX9TyNF9rjJu/S25RGLRVrOQS4V",
      "include_colab_link": true
    },
    "kernelspec": {
      "name": "python3",
      "display_name": "Python 3"
    },
    "language_info": {
      "name": "python"
    }
  },
  "cells": [
    {
      "cell_type": "markdown",
      "metadata": {
        "id": "view-in-github",
        "colab_type": "text"
      },
      "source": [
        "<a href=\"https://colab.research.google.com/github/srigit-dot/machine-learning/blob/main/HierarchicalClustering(Unsupervised).ipynb\" target=\"_parent\"><img src=\"https://colab.research.google.com/assets/colab-badge.svg\" alt=\"Open In Colab\"/></a>"
      ]
    },
    {
      "cell_type": "code",
      "execution_count": 3,
      "metadata": {
        "colab": {
          "base_uri": "https://localhost:8080/",
          "height": 646
        },
        "id": "dFXDUXlTFATJ",
        "outputId": "416a8f25-c628-418c-eea1-c32e6974edc1"
      },
      "outputs": [
        {
          "output_type": "stream",
          "name": "stdout",
          "text": [
            "Running Gradio in a Colab notebook requires sharing enabled. Automatically setting `share=True` (you can turn this off by setting `share=False` in `launch()` explicitly).\n",
            "\n",
            "Colab notebook detected. To show errors in colab notebook, set debug=True in launch()\n",
            "* Running on public URL: https://893b272691587d7905.gradio.live\n",
            "\n",
            "This share link expires in 72 hours. For free permanent hosting and GPU upgrades, run `gradio deploy` from the terminal in the working directory to deploy to Hugging Face Spaces (https://huggingface.co/spaces)\n"
          ]
        },
        {
          "output_type": "display_data",
          "data": {
            "text/plain": [
              "<IPython.core.display.HTML object>"
            ],
            "text/html": [
              "<div><iframe src=\"https://893b272691587d7905.gradio.live\" width=\"100%\" height=\"500\" allow=\"autoplay; camera; microphone; clipboard-read; clipboard-write;\" frameborder=\"0\" allowfullscreen></iframe></div>"
            ]
          },
          "metadata": {}
        },
        {
          "output_type": "execute_result",
          "data": {
            "text/plain": []
          },
          "metadata": {},
          "execution_count": 3
        }
      ],
      "source": [
        "import gradio as gr\n",
        "import numpy as np\n",
        "import matplotlib.pyplot as plt\n",
        "from scipy.cluster.hierarchy import dendrogram, linkage\n",
        "from sklearn.datasets import make_blobs\n",
        "from sklearn.cluster import AgglomerativeClustering\n",
        "import io\n",
        "from PIL import Image\n",
        "\n",
        "# Generate synthetic data\n",
        "X, _ = make_blobs(n_samples=50, centers=3, random_state=42)\n",
        "\n",
        "# Hierarchical clustering and plotting function\n",
        "def plot_hierarchical_clustering(num_clusters):\n",
        "    # Perform hierarchical clustering\n",
        "    linked = linkage(X, method='ward')\n",
        "\n",
        "    # Create figure for plots\n",
        "    fig, ax = plt.subplots(1, 2, figsize=(12, 5))\n",
        "\n",
        "    # Plot the dendrogram\n",
        "    dendrogram(linked, ax=ax[0], orientation='top', distance_sort='descending', show_leaf_counts=True)\n",
        "    ax[0].set_title(\"Hierarchical Clustering Dendrogram\")\n",
        "    ax[0].set_xlabel(\"Sample Index\")\n",
        "    ax[0].set_ylabel(\"Distance\")\n",
        "\n",
        "    # Perform Agglomerative Clustering to form 'num_clusters' clusters\n",
        "    clusterer = AgglomerativeClustering(n_clusters=num_clusters)\n",
        "    labels = clusterer.fit_predict(X)\n",
        "\n",
        "    # Plot the clustered data points\n",
        "    scatter = ax[1].scatter(X[:, 0], X[:, 1], c=labels, cmap='viridis')\n",
        "    ax[1].set_title(f\"Data Points with {num_clusters} Clusters\")\n",
        "    ax[1].set_xlabel(\"Feature 1\")\n",
        "    ax[1].set_ylabel(\"Feature 2\")\n",
        "\n",
        "    # Show legend and the plot\n",
        "    fig.colorbar(scatter, ax=ax[1])\n",
        "    plt.tight_layout()\n",
        "\n",
        "    # Save the plot as a PNG image in memory\n",
        "    img_buf = io.BytesIO()\n",
        "    plt.savefig(img_buf, format='png')\n",
        "    img_buf.seek(0)\n",
        "    img = Image.open(img_buf)\n",
        "\n",
        "    return img, f\"Clustering complete with {num_clusters} clusters!\"\n",
        "\n",
        "# Gradio interface\n",
        "interface = gr.Interface(\n",
        "    fn=plot_hierarchical_clustering,\n",
        "    inputs=gr.Slider(minimum=2, maximum=5, step=1, value=3, label=\"Number of Clusters\"),\n",
        "    outputs=[gr.Image(type=\"pil\"), \"text\"],  # Return both the image and text\n",
        "    title=\"Hierarchical Clustering Visualizer\",\n",
        "    description=\"Select the number of clusters to perform hierarchical clustering and visualize the results.\"\n",
        ")\n",
        "\n",
        "# Launch the interface\n",
        "interface.launch()\n"
      ]
    }
  ]
}