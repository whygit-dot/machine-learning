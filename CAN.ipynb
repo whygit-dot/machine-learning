{
  "nbformat": 4,
  "nbformat_minor": 0,
  "metadata": {
    "colab": {
      "provenance": [],
      "authorship_tag": "ABX9TyPQOx9I2Nj1y0Bn7gaqOcHt",
      "include_colab_link": true
    },
    "kernelspec": {
      "name": "python3",
      "display_name": "Python 3"
    },
    "language_info": {
      "name": "python"
    }
  },
  "cells": [
    {
      "cell_type": "markdown",
      "metadata": {
        "id": "view-in-github",
        "colab_type": "text"
      },
      "source": [
        "<a href=\"https://colab.research.google.com/github/srigit-dot/machine-learning/blob/main/CAN.ipynb\" target=\"_parent\"><img src=\"https://colab.research.google.com/assets/colab-badge.svg\" alt=\"Open In Colab\"/></a>"
      ]
    },
    {
      "cell_type": "code",
      "execution_count": 17,
      "metadata": {
        "colab": {
          "base_uri": "https://localhost:8080/",
          "height": 587
        },
        "id": "aFbaNXzyQg1T",
        "outputId": "7c24bd53-d173-47a5-e1cb-2b4b97a05cc8"
      },
      "outputs": [
        {
          "output_type": "stream",
          "name": "stdout",
          "text": [
            "Downloading data from https://storage.googleapis.com/tensorflow/tf-keras-datasets/mnist.npz\n",
            "\u001b[1m11490434/11490434\u001b[0m \u001b[32m━━━━━━━━━━━━━━━━━━━━\u001b[0m\u001b[37m\u001b[0m \u001b[1m0s\u001b[0m 0us/step\n",
            "\u001b[1m16/16\u001b[0m \u001b[32m━━━━━━━━━━━━━━━━━━━━\u001b[0m\u001b[37m\u001b[0m \u001b[1m64s\u001b[0m 4s/step - accuracy: 0.1531 - loss: 2.3207\n",
            "\n",
            "🔢 Enter an index from test set (0-9999): 5\n",
            "\u001b[1m1/1\u001b[0m \u001b[32m━━━━━━━━━━━━━━━━━━━━\u001b[0m\u001b[37m\u001b[0m \u001b[1m0s\u001b[0m 210ms/step\n"
          ]
        },
        {
          "output_type": "stream",
          "name": "stderr",
          "text": [
            "/usr/local/lib/python3.11/dist-packages/IPython/core/pylabtools.py:151: UserWarning: Glyph 129504 (\\N{BRAIN}) missing from font(s) DejaVu Sans.\n",
            "  fig.canvas.print_figure(bytes_io, **kw)\n"
          ]
        },
        {
          "output_type": "display_data",
          "data": {
            "text/plain": [
              "<Figure size 640x480 with 1 Axes>"
            ],
            "image/png": "[encoded data removed]"
          },
          "metadata": {}
        }
      ],
      "source": [
        "import numpy as np\n",
        "import matplotlib.pyplot as plt\n",
        "import tensorflow as tf\n",
        "from tensorflow import keras\n",
        "from tensorflow.keras import layers\n",
        "\n",
        "# Load and preprocess MNIST data\n",
        "(x_train, y_train), (x_test, y_test) = keras.datasets.mnist.load_data()\n",
        "x_train = x_train.astype(\"float32\") / 255.\n",
        "x_test = x_test.astype(\"float32\") / 255.\n",
        "\n",
        "x_train = np.expand_dims(x_train, -1)\n",
        "x_test = np.expand_dims(x_test, -1)\n",
        "\n",
        "y_train = keras.utils.to_categorical(y_train, 10)\n",
        "y_test = keras.utils.to_categorical(y_test, 10)\n",
        "\n",
        "# --- Capsule Layers and Squash ---\n",
        "\n",
        "def squash_fn(vectors, axis=-1):\n",
        "    s_squared_norm = tf.reduce_sum(tf.square(vectors), axis, keepdims=True)\n",
        "    scale = s_squared_norm / (1 + s_squared_norm)\n",
        "    return scale * vectors / tf.sqrt(s_squared_norm + 1e-9)\n",
        "\n",
        "class Squash(layers.Layer):\n",
        "    def call(self, inputs, **kwargs):\n",
        "        return squash_fn(inputs)\n",
        "\n",
        "class Length(layers.Layer):\n",
        "    def call(self, inputs, **kwargs):\n",
        "        return tf.sqrt(tf.reduce_sum(tf.square(inputs), -1) + 1e-9)\n",
        "\n",
        "class CapsuleLayer(layers.Layer):\n",
        "    def __init__(self, num_capsules, dim_capsule, routings=3, **kwargs):\n",
        "        super(CapsuleLayer, self).__init__(**kwargs)\n",
        "        self.num_capsules = num_capsules\n",
        "        self.dim_capsule = dim_capsule\n",
        "        self.routings = routings\n",
        "\n",
        "    def build(self, input_shape):\n",
        "        self.input_num_capsules = input_shape[1]\n",
        "        self.input_dim_capsule = input_shape[2]\n",
        "        self.W = self.add_weight(\n",
        "            shape=[self.input_num_capsules, self.num_capsules, self.input_dim_capsule, self.dim_capsule],\n",
        "            initializer='glorot_uniform',\n",
        "            trainable=True\n",
        "        )\n",
        "\n",
        "    def call(self, inputs):\n",
        "        # inputs shape: [batch_size, input_num_capsules, input_dim_capsule]\n",
        "        inputs_expand = tf.expand_dims(inputs, 2)  # [batch, input_caps, 1, dim_caps]\n",
        "        inputs_tiled = tf.expand_dims(inputs_expand, 3)  # [batch, input_caps, 1, 1, dim_caps]\n",
        "\n",
        "        # W shape: [input_caps, output_caps, input_dim, output_dim]\n",
        "        W_tiled = tf.expand_dims(self.W, 0)  # [1, input_caps, output_caps, input_dim, output_dim]\n",
        "        u_hat = tf.matmul(inputs_tiled, W_tiled)  # [batch, input_caps, output_caps, 1, output_dim]\n",
        "        u_hat = tf.squeeze(u_hat, axis=3)  # [batch, input_caps, output_caps, output_dim]\n",
        "\n",
        "        b = tf.zeros_like(u_hat[..., 0])  # [batch, input_caps, output_caps]\n",
        "\n",
        "        for i in range(self.routings):\n",
        "            c = tf.nn.softmax(b, axis=2)  # softmax over output_caps\n",
        "            outputs = squash_fn(tf.reduce_sum(c[..., None] * u_hat, axis=1))  # [batch, output_caps, output_dim]\n",
        "            if i < self.routings - 1:\n",
        "                b += tf.reduce_sum(u_hat * outputs[:, None, :, :], axis=-1)\n",
        "\n",
        "        return outputs\n",
        "\n",
        "# --- Build Capsule Model ---\n",
        "inputs = keras.Input(shape=(28, 28, 1))\n",
        "x = layers.Conv2D(256, 9, activation='relu')(inputs)\n",
        "x = layers.Conv2D(32 * 8, 9, strides=2, activation='relu')(x)\n",
        "x = layers.Reshape((-1, 8))(x)  # 1152 primary capsules, each with 8D\n",
        "x = Squash()(x)\n",
        "\n",
        "caps = CapsuleLayer(num_capsules=10, dim_capsule=16)(x)\n",
        "outputs = Length()(caps)\n",
        "\n",
        "model = keras.Model(inputs, outputs)\n",
        "model.compile(optimizer='adam', loss='categorical_crossentropy', metrics=['accuracy'])\n",
        "\n",
        "# --- Train Model (small subset for quick test) ---\n",
        "model.fit(x_train[:1024], y_train[:1024], batch_size=64, epochs=1)\n",
        "\n",
        "# --- User Input for Prediction ---\n",
        "index = int(input(\"\\n🔢 Enter an index from test set (0-9999): \"))\n",
        "while not (0 <= index < len(x_test)):\n",
        "    index = int(input(\"Please enter a valid index: \"))\n",
        "\n",
        "sample = np.expand_dims(x_test[index], axis=0)\n",
        "prediction = model.predict(sample)\n",
        "predicted_digit = np.argmax(prediction)\n",
        "\n",
        "# --- Display Prediction ---\n",
        "plt.imshow(x_test[index].reshape(28,28), cmap='gray')\n",
        "plt.title(f\"🧠 Predicted Digit: {predicted_digit}\")\n",
        "plt.axis('off')\n",
        "plt.show()"
      ]
    }
  ]
}