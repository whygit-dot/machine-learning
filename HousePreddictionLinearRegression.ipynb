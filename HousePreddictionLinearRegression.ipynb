{
  "nbformat": 4,
  "nbformat_minor": 0,
  "metadata": {
    "colab": {
      "provenance": [],
      "authorship_tag": "ABX9TyOxZ+IBKqfZP+p5GLlXU76m",
      "include_colab_link": true
    },
    "kernelspec": {
      "name": "python3",
      "display_name": "Python 3"
    },
    "language_info": {
      "name": "python"
    }
  },
  "cells": [
    {
      "cell_type": "markdown",
      "metadata": {
        "id": "view-in-github",
        "colab_type": "text"
      },
      "source": [
        "<a href=\"https://colab.research.google.com/github/srigit-dot/machine-learning/blob/main/HousePreddictionLinearRegression.ipynb\" target=\"_parent\"><img src=\"https://colab.research.google.com/assets/colab-badge.svg\" alt=\"Open In Colab\"/></a>"
      ]
    },
    {
      "cell_type": "code",
      "execution_count": 3,
      "metadata": {
        "colab": {
          "base_uri": "https://localhost:8080/",
          "height": 646
        },
        "id": "aFbaNXzyQg1T",
        "outputId": "898f5bfc-836c-4aed-a446-21bdaf1a413f"
      },
      "outputs": [
        {
          "output_type": "stream",
          "name": "stdout",
          "text": [
            "It looks like you are running Gradio on a hosted a Jupyter notebook. For the Gradio app to work, sharing must be enabled. Automatically setting `share=True` (you can turn this off by setting `share=False` in `launch()` explicitly).\n",
            "\n",
            "Colab notebook detected. To show errors in colab notebook, set debug=True in launch()\n",
            "* Running on public URL: https://b5cc624370bfa5551b.gradio.live\n",
            "\n",
            "This share link expires in 1 week. For free permanent hosting and GPU upgrades, run `gradio deploy` from the terminal in the working directory to deploy to Hugging Face Spaces (https://huggingface.co/spaces)\n"
          ]
        },
        {
          "output_type": "display_data",
          "data": {
            "text/plain": [
              "<IPython.core.display.HTML object>"
            ],
            "text/html": [
              "<div><iframe src=\"https://b5cc624370bfa5551b.gradio.live\" width=\"100%\" height=\"500\" allow=\"autoplay; camera; microphone; clipboard-read; clipboard-write;\" frameborder=\"0\" allowfullscreen></iframe></div>"
            ]
          },
          "metadata": {}
        },
        {
          "output_type": "execute_result",
          "data": {
            "text/plain": []
          },
          "metadata": {},
          "execution_count": 3
        }
      ],
      "source": [
        "# Install necessary libraries\n",
        "!pip install -q gradio pandas scikit-learn\n",
        "\n",
        "# Step 1: Imports\n",
        "import gradio as gr\n",
        "import pandas as pd\n",
        "from sklearn.linear_model import LinearRegression\n",
        "\n",
        "# Step 2: Create sample dataset and train model\n",
        "data = {\n",
        "    'size': [1500, 2000, 1800, 1200, 2500, 1600, 1400, 1900, 2100, 1700],\n",
        "    'bedrooms': [3, 4, 3, 2, 5, 3, 2, 4, 4, 3],\n",
        "    'bathrooms': [2, 3, 2, 1, 3, 2, 2, 2, 3, 2],\n",
        "    'garage': [1, 2, 2, 1, 2, 1, 1, 2, 2, 1],\n",
        "    'price': [300000, 450000, 380000, 220000, 520000, 310000, 250000, 400000, 480000, 330000]\n",
        "}\n",
        "\n",
        "df = pd.DataFrame(data)\n",
        "\n",
        "# Train model once\n",
        "features = ['size', 'bedrooms', 'bathrooms', 'garage']\n",
        "X = df[features]\n",
        "y = df['price']\n",
        "\n",
        "model = LinearRegression()\n",
        "model.fit(X, y)\n",
        "\n",
        "# Step 3: Prediction function\n",
        "def predict_price(size, bedrooms, bathrooms, garage):\n",
        "    input_data = pd.DataFrame([[size, bedrooms, bathrooms, garage]], columns=features)\n",
        "    prediction = model.predict(input_data)[0]\n",
        "    return f\"🏠 Predicted House Price: ${prediction:,.2f}\"\n",
        "\n",
        "# Step 4: Gradio UI\n",
        "app = gr.Interface(\n",
        "    fn=predict_price,\n",
        "    inputs=[\n",
        "        gr.Slider(500, 4000, step=100, label=\"Size (sq ft)\"),\n",
        "        gr.Slider(1, 6, step=1, label=\"Bedrooms\"),\n",
        "        gr.Slider(1, 4, step=1, label=\"Bathrooms\"),\n",
        "        gr.Slider(0, 3, step=1, label=\"Garage (cars)\")\n",
        "    ],\n",
        "    outputs=\"text\",\n",
        "    title=\"🏡 House Price Predictor\",\n",
        "    description=\"Move the sliders to set house features and get an estimated price.\"\n",
        ")\n",
        "\n",
        "app.launch()\n"
      ]
    }
  ]
}