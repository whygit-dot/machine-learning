{
  "nbformat": 4,
  "nbformat_minor": 0,
  "metadata": {
    "colab": {
      "provenance": [],
      "authorship_tag": "ABX9TyNVRnKyCLp9hRUN5XJwJzYa",
      "include_colab_link": true
    },
    "kernelspec": {
      "name": "python3",
      "display_name": "Python 3"
    },
    "language_info": {
      "name": "python"
    }
  },
  "cells": [
    {
      "cell_type": "markdown",
      "metadata": {
        "id": "view-in-github",
        "colab_type": "text"
      },
      "source": [
        "<a href=\"https://colab.research.google.com/github/srigit-dot/machine-learning/blob/main/LanguageTranslator.ipynb\" target=\"_parent\"><img src=\"https://colab.research.google.com/assets/colab-badge.svg\" alt=\"Open In Colab\"/></a>"
      ]
    },
    {
      "cell_type": "code",
      "execution_count": 2,
      "metadata": {
        "colab": {
          "base_uri": "https://localhost:8080/"
        },
        "id": "OgWreXM7y16W",
        "outputId": "b212ef22-c05e-4aa5-9e2c-5855abdfca37"
      },
      "outputs": [
        {
          "output_type": "stream",
          "name": "stdout",
          "text": [
            "Enter English text to translate to Tamil (or type 'exit' to quit): hi how are you ?\n",
            "Translated Text: ஹாய் நீங்கள் எப்படி இருக்கிறீர்கள்?\n",
            "\n",
            "Enter English text to translate to Tamil (or type 'exit' to quit): he is dancing amazingly.\n",
            "Translated Text: அவர் அதிசயமாக நடனமாடுகிறார்.\n",
            "\n",
            "Enter English text to translate to Tamil (or type 'exit' to quit): he is dancing well.\n",
            "Translated Text: அவர் நன்றாக நடனமாடுகிறார்.\n",
            "\n",
            "Enter English text to translate to Tamil (or type 'exit' to quit): exit\n",
            "Translation ended.\n"
          ]
        }
      ],
      "source": [
        "# If you haven't already installed the correct version:\n",
        "# !pip install googletrans==4.0.0-rc1\n",
        "\n",
        "from googletrans import Translator\n",
        "\n",
        "# Initialize the translator\n",
        "translator = Translator()\n",
        "\n",
        "# Function to translate from English to Tamil\n",
        "def translate_to_tamil(text):\n",
        "    try:\n",
        "        translation = translator.translate(text, src='en', dest='ta')\n",
        "        return translation.text\n",
        "    except Exception as e:\n",
        "        return f\"Error: {e}\"\n",
        "\n",
        "# Keep translating until the user types 'exit'\n",
        "while True:\n",
        "    english_text = input(\"Enter English text to translate to Tamil (or type 'exit' to quit): \")\n",
        "    if english_text.lower() == 'exit':\n",
        "        print(\"Translation ended.\")\n",
        "        break\n",
        "\n",
        "    tamil_translation = translate_to_tamil(english_text)\n",
        "    print(f\"Translated Text: {tamil_translation}\\n\")\n"
      ]
    }
  ]
}