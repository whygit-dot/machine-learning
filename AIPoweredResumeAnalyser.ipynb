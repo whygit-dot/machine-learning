{
  "nbformat": 4,
  "nbformat_minor": 0,
  "metadata": {
    "colab": {
      "provenance": [],
      "authorship_tag": "ABX9TyMMjgYIXxbq159IGZIPDy5D",
      "include_colab_link": true
    },
    "kernelspec": {
      "name": "python3",
      "display_name": "Python 3"
    },
    "language_info": {
      "name": "python"
    }
  },
  "cells": [
    {
      "cell_type": "markdown",
      "metadata": {
        "id": "view-in-github",
        "colab_type": "text"
      },
      "source": [
        "<a href=\"https://colab.research.google.com/github/srigit-dot/machine-learning/blob/main/AIPoweredResumeAnalyser.ipynb\" target=\"_parent\"><img src=\"https://colab.research.google.com/assets/colab-badge.svg\" alt=\"Open In Colab\"/></a>"
      ]
    },
    {
      "cell_type": "code",
      "execution_count": 14,
      "metadata": {
        "colab": {
          "base_uri": "https://localhost:8080/",
          "height": 646
        },
        "id": "taI-SqWAy7ye",
        "outputId": "2b708890-c5f7-456c-87e6-df6266b892bc"
      },
      "outputs": [
        {
          "output_type": "stream",
          "name": "stdout",
          "text": [
            "Running Gradio in a Colab notebook requires sharing enabled. Automatically setting `share=True` (you can turn this off by setting `share=False` in `launch()` explicitly).\n",
            "\n",
            "Colab notebook detected. To show errors in colab notebook, set debug=True in launch()\n",
            "* Running on public URL: https://c886c9c9ade0c0f80e.gradio.live\n",
            "\n",
            "This share link expires in 72 hours. For free permanent hosting and GPU upgrades, run `gradio deploy` from the terminal in the working directory to deploy to Hugging Face Spaces (https://huggingface.co/spaces)\n"
          ]
        },
        {
          "output_type": "display_data",
          "data": {
            "text/plain": [
              "<IPython.core.display.HTML object>"
            ],
            "text/html": [
              "<div><iframe src=\"https://c886c9c9ade0c0f80e.gradio.live\" width=\"100%\" height=\"500\" allow=\"autoplay; camera; microphone; clipboard-read; clipboard-write;\" frameborder=\"0\" allowfullscreen></iframe></div>"
            ]
          },
          "metadata": {}
        },
        {
          "output_type": "execute_result",
          "data": {
            "text/plain": []
          },
          "metadata": {},
          "execution_count": 14
        }
      ],
      "source": [
        "import gradio as gr\n",
        "\n",
        "# Sample function to process the resume (you can customize this for specific analysis)\n",
        "def process_resume(resume_text):\n",
        "    # For now, we just return the first 200 characters of the resume as a mock analysis\n",
        "    resume_summary = resume_text[:200]  # Example: Mock summary of resume\n",
        "    # Here you can implement resume analysis logic like checking skills, experience, etc.\n",
        "    return resume_summary, \"Here we could provide suggestions based on resume analysis.\"\n",
        "\n",
        "# Create Gradio Interface\n",
        "interface = gr.Interface(\n",
        "    fn=process_resume,\n",
        "    inputs=gr.Textbox(label=\"Paste your Resume Text Here\", placeholder=\"Paste your resume here...\", lines=10),\n",
        "    outputs=[gr.Textbox(label=\"Resume Summary\"), gr.Textbox(label=\"Suggestions\")],\n",
        "    title=\"Resume Analyzer\",\n",
        "    description=\"Paste your resume and get a mock analysis and suggestions.\"\n",
        ")\n",
        "\n",
        "# Launch the interface\n",
        "interface.launch()\n"
      ]
    }
  ]
}